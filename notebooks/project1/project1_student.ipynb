{
 "cells": [
  {
   "cell_type": "markdown",
   "id": "0563b46a-4057-470f-a55e-3a83d96612cb",
   "metadata": {},
   "source": [
    "<div style=\"background-color:#e6ffe6; padding:10px; border-style:\n",
    "solid;; border-color:#00e600; border-width:1px\">\n",
    "\n",
    "# AST4310 2024, Project 1\n",
    "\n",
    "</div>\n",
    "\n",
    "Authored by: *(Replace this text with your candidate numbers)*."
   ]
  },
  {
   "cell_type": "code",
   "execution_count": 1,
   "id": "85a66e25-5412-4378-830e-4ac014768cac",
   "metadata": {},
   "outputs": [],
   "source": [
    "# Your imports here"
   ]
  },
  {
   "cell_type": "markdown",
   "id": "7fa845b2-55d5-45b4-9a7d-1f7affe7ce76",
   "metadata": {},
   "source": [
    "<div style=\"background-color:#e6ffe6; padding:10px; border-style:\n",
    "solid;; border-color:#00e600; border-width:1px\">\n",
    "\n",
    "### Exercise 1: Line formation in optically thick medium [30 points]\n",
    "    \n",
    "Assume an optically thick medium, where the Eddington-Barbier approximation is valid. A didactic tool to understand the formation of spectral lines is a diagram with four panels: total extinction vs. frequency (top left), optical depth vs height (top right), source function vs. height (bottom right), and emerging intensity vs. frequency (bottom left). It is also useful to plot the optical depth at two frequency points: near the maximum extinction and near the minimum extinction. \n",
    "    \n",
    "In this exercise, you are to create such diagrams and explain in physical terms what is going on. The units are not important for these purposes, so feel free to use arbitrary units. You are free to create your own function for $\\alpha(\\nu)$ (extinction as a function of frequency), but keep in mind that spectral lines usually follow a Gaussian shape (or, more precisely, Voigt profile), and continua can usually be approximated by a line (for narrow wavelength regions). You are also free to select your own function for $S(h)$ (source function as a function of height). It is recommended that you do not set the extinction such that $\\tau=1$ is reached at the edges of your height scale - some approximations will break down and strange things will follow. Assume that the extinction is the same at all height points (unrealistic, but simple for now).\n",
    "    \n",
    "* *[10 points]* Build $\\alpha(\\nu)$ and $S(h)$ such that the emergent intensity looks approximately like the plot below. Plot the 4-panel diagram and explain in physical terms the choices you made when building the extinction and source function. Would there be more than one way to build $\\alpha$ and $S$ so that the resulting intensity would be the same?\n",
    "\n",
    "\n",
    "<img src=\"https://tiagopereira.space/ast4310/images/intensity_plot1.svg\" alt=\"Spectrum 1\" width=\"400\"/>\n",
    "\n",
    "* *[10 points]* Build $\\alpha(\\nu)$ and $S(h)$ such that the emergent intensity looks approximately like the plot below. Plot the 4-panel diagram and explain in physical terms the choices you made when building the extinction and source function. Would there be more than one way to build $\\alpha$ and $S$ so that the resulting intensity would be the same?\n",
    "    \n",
    "<img src=\"https://tiagopereira.space/ast4310/images/intensity_plot2.svg\" alt=\"Spectrum 2\" width=\"400\"/>\n",
    "    \n",
    "* *[10 points]* Build $\\alpha(\\nu)$ and $S(h)$ such that you have a spectral line in absorption. Plot a modified version of the 4-panel diagram where in the intensity plot you have both $I(\\mu=1)$ and $I(\\mu=0.3)$. Explain the differences between $I(\\mu=1)$ and $I(\\mu=0.3)$ using the information from the diagram.\n",
    "    \n",
    "</div>"
   ]
  },
  {
   "cell_type": "code",
   "execution_count": 2,
   "id": "5bc433d6-236b-47be-aeee-bd60fa0333c3",
   "metadata": {},
   "outputs": [],
   "source": [
    "# Your answers here"
   ]
  },
  {
   "cell_type": "markdown",
   "id": "bb8be23d-0902-4ebc-92bc-c56bd93217f0",
   "metadata": {},
   "source": [
    "<div style=\"background-color:#e6ffe6; padding:10px; border-style:\n",
    "solid;; border-color:#00e600; border-width:1px\">\n",
    "\n",
    "### Exercise 2: The Boltzmann and Saha laws [21 points]\n",
    "    \n",
    "An effective temperature around 9500 K is the classical divide between hot and cool stars, since it is approximately the temperature where hydrogen is 50% ionised. Hot stars have therefore mostly ionised hydrogen, and cool stars mostly neutral hydrogen.\n",
    "    \n",
    "* *[7 points]* Discuss what possible implications to the spectra of stars that come with hydrogen being ionised or neutral. \n",
    "* *[7 points]* Assuming that the Saha distribution can be applied, estimate what is the typical electron density in a star with effective temperature of 9500 K and a hydrogen ionisation fraction of 50%.\n",
    "* *[7 points]* For the electron density you obtained before, plot the neutral fraction of hydrogen as a function of temperature.\n",
    "    \n",
    "</div>"
   ]
  },
  {
   "cell_type": "code",
   "execution_count": 3,
   "id": "a8dde74f-1126-4bff-896d-50fe0923ee9c",
   "metadata": {},
   "outputs": [],
   "source": [
    "# Your answers here"
   ]
  },
  {
   "cell_type": "markdown",
   "id": "357e1192-8243-4bd9-a6d4-04683e890b4e",
   "metadata": {},
   "source": [
    "<div style=\"background-color:#e6ffe6; padding:10px; border-style:\n",
    "solid;; border-color:#00e600; border-width:1px\">\n",
    "\n",
    "### Exercise 3: Carbon [44 points]\n",
    "\n",
    "Carbon is an element essential to life on Earth. It is the fourth most abundant element in the Universe (after hydrogen, helium, and oxygen), and in the colder regions of the Sun and solar system, it easily forms molecules, most commonly in the form of hydrocarbonates. In astrophysics, molecules such as CO can be used to trace star formation in distant galaxies, and carbon lines are important diagnostics of temperature in stars. For example, the ultraviolet C II lines with wavelengths of 133.4532 nm, 133.5663 nm, and 133.5708 nm can be used to detect if a star has a chromosphere (a hot layer around its surface). In the Sun, these lines are also routinely observed by NASA's [Interface Region Imaging Spectrograph](https://science.nasa.gov/mission/iris/) (IRIS) mission, where they are used to trace the dynamics and energetics of the solar chromosphere. \n",
    "\n",
    "The provided file `CI-III.txt` contains the energy levels of neutral and singly-ionised C, plus the ionisation energy of doubly-ionised C (C III). Use this file to answer this exercise.\n",
    "    \n",
    "* *[7 points]* In the CI-III.txt file, identify the level energies and statistical weights of the lower and upper levels of the C II lines at 133.4532 nm and 133.5663 nm. The 133.4532 nm line is a resonance line, and both lines share the same upper level. \n",
    "* *[8 points]* Assuming Saha-Boltzmann statistics and an electron pressure of 1 kPa, what is the range of temperatures where C is mostly in the singly ionised form? Compare with hydrogen and discuss.\n",
    "* *[10 points]* Making use of the [NIST Atomic Spectra Database Levels form](https://physics.nist.gov/PhysRefData/ASD/levels_form.html), extend the C atom file to include all ionisation stages up to (and including) C VII. Make a modified \"Payne plot\" to show only the strength of the ionisation stages as function of temperature for this new model atom. Plot for an electron pressure of 1 kPa and a range of temperatures between $3500$ and $10^7$ K.\n",
    "* *[9 points]* In diffuse media where densities are much lower, collisions are much less frequent and the Saha ionisation no longer applies. In these conditions, it is common to use the *Collisional Ionisation Equilibrium* (CIE), also called *coronal equilibrium* since it is a good approximation for the coronae of stars. The provided file `C_CIE.txt` contains the ionisation fractions of carbon (up to C VII) as a function of temperature. Compare the ionisation fractions under CIE with the Saha (previous point) and discuss the differences. Which approximation is best on the surface of the Sun?\n",
    "* *[10 points]* Under Collisional Ionisation Equilibrium, a bound-free transition can cool a gas, but the same is not true under Saha ionisation. Why is this? Discuss.\n",
    "\n"
   ]
  },
  {
   "cell_type": "code",
   "execution_count": 4,
   "id": "77d7480f-dba2-4ce8-8c7d-0adc88d9ef7d",
   "metadata": {},
   "outputs": [],
   "source": [
    "# Your answers here"
   ]
  }
 ],
 "metadata": {
  "kernelspec": {
   "display_name": "Python 3 (ipykernel)",
   "language": "python",
   "name": "python3"
  },
  "language_info": {
   "codemirror_mode": {
    "name": "ipython",
    "version": 3
   },
   "file_extension": ".py",
   "mimetype": "text/x-python",
   "name": "python",
   "nbconvert_exporter": "python",
   "pygments_lexer": "ipython3",
   "version": "3.11.7"
  }
 },
 "nbformat": 4,
 "nbformat_minor": 5
}
